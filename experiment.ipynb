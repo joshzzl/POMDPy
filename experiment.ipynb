{
 "cells": [
  {
   "cell_type": "markdown",
   "metadata": {},
   "source": [
    "### Experiment with Tiger Problem"
   ]
  },
  {
   "cell_type": "code",
   "execution_count": null,
   "metadata": {},
   "outputs": [],
   "source": [
    "import numpy as np\n",
    "import os\n",
    "import tensorflow.compat.v1 as tf"
   ]
  },
  {
   "cell_type": "code",
   "execution_count": null,
   "metadata": {},
   "outputs": [],
   "source": [
    "save_path = './rollout_exp/Tiger'\n",
    "save_str = 'LAN-{}-{}.pkl'\n",
    "log_str = 'log_LAN-{}-{}.txt'"
   ]
  },
  {
   "cell_type": "markdown",
   "metadata": {},
   "source": [
    "### baseline"
   ]
  },
  {
   "cell_type": "code",
   "execution_count": null,
   "metadata": {},
   "outputs": [],
   "source": [
    "experiment = 'baseline'"
   ]
  },
  {
   "cell_type": "code",
   "execution_count": null,
   "metadata": {},
   "outputs": [],
   "source": [
    "%%capture cap --no-stderr\n",
    "tf.reset_default_graph()\n",
    "i = 1\n",
    "seed = np.random.randint(10e5)\n",
    "save_name = save_str.format(experiment, i)\n",
    "\n",
    "print(\"Experiment: {}; Run: {}\\n\".format(experiment, i))    \n",
    "%run vi.py --env Tiger --solver LinearAlphaNet --use_tf --n_epochs 5000 --max_steps 50 --test 10 --learning_rate 0.05 --learning_rate_decay 0.996 --learning_rate_minimum 0.00025 --learning_rate_decay_step 50 --beta 0.001 --epsilon_start 0.2 --epsilon_minimum 0.02 --epsilon_decay 0.99 --epsilon_decay_step 75 --seed $seed --save --save_name $save_name "
   ]
  },
  {
   "cell_type": "code",
   "execution_count": null,
   "metadata": {},
   "outputs": [],
   "source": [
    "log = log_str.format(experiment, i)\n",
    "log_path = os.path.join(save_path, log)\n",
    "\n",
    "with open(log_path, 'w') as f:\n",
    "    f.write(cap.stdout)\n",
    "i+=1\n",
    "\n",
    "tf.reset_default_graph()"
   ]
  },
  {
   "cell_type": "code",
   "execution_count": null,
   "metadata": {},
   "outputs": [],
   "source": [
    "%%capture cap --no-stderr\n",
    "\n",
    "seed = np.random.randint(10e5)\n",
    "save_name = save_str.format(experiment, i)\n",
    "\n",
    "print(\"Experiment: {}; Run: {}\\n\".format(experiment, i))\n",
    "%run vi.py --env Tiger --solver LinearAlphaNet --use_tf --n_epochs 5000 --max_steps 50 --test 10 --learning_rate 0.05 --learning_rate_decay 0.996 --learning_rate_minimum 0.00025 --learning_rate_decay_step 50 --beta 0.001 --epsilon_start 0.2 --epsilon_minimum 0.02 --epsilon_decay 0.99 --epsilon_decay_step 75 --seed $seed --save --save_name $save_name "
   ]
  },
  {
   "cell_type": "code",
   "execution_count": null,
   "metadata": {},
   "outputs": [],
   "source": [
    "log = log_str.format(experiment, i)\n",
    "log_path = os.path.join(save_path, log)\n",
    "\n",
    "with open(log_path, 'w') as f:\n",
    "    f.write(cap.stdout)\n",
    "i+=1\n",
    "\n",
    "tf.reset_default_graph()"
   ]
  },
  {
   "cell_type": "code",
   "execution_count": null,
   "metadata": {},
   "outputs": [],
   "source": [
    "%%capture cap --no-stderr\n",
    "\n",
    "seed = np.random.randint(10e5)\n",
    "save_name = save_str.format(experiment, i)\n",
    "\n",
    "print(\"Experiment: {}; Run: {}\\n\".format(experiment, i)) \n",
    "%run vi.py --env Tiger --solver LinearAlphaNet --use_tf --n_epochs 5000 --max_steps 50 --test 10 --learning_rate 0.05 --learning_rate_decay 0.996 --learning_rate_minimum 0.00025 --learning_rate_decay_step 50 --beta 0.001 --epsilon_start 0.2 --epsilon_minimum 0.02 --epsilon_decay 0.99 --epsilon_decay_step 75 --seed $seed --save --save_name $save_name "
   ]
  },
  {
   "cell_type": "code",
   "execution_count": null,
   "metadata": {},
   "outputs": [],
   "source": [
    "log = log_str.format(experiment, i)\n",
    "log_path = os.path.join(save_path, log)\n",
    "\n",
    "with open(log_path, 'w') as f:\n",
    "    f.write(cap.stdout)"
   ]
  },
  {
   "cell_type": "markdown",
   "metadata": {},
   "source": [
    "### deceptive kernel - rand"
   ]
  },
  {
   "cell_type": "code",
   "execution_count": null,
   "metadata": {},
   "outputs": [],
   "source": [
    "experiment = 'rand'"
   ]
  },
  {
   "cell_type": "code",
   "execution_count": null,
   "metadata": {},
   "outputs": [],
   "source": [
    "%%capture cap --no-stderr\n",
    "i = 1\n",
    "tf.reset_default_graph()\n",
    "seed = np.random.randint(10e5)\n",
    "save_name = save_str.format(experiment, i)\n",
    "\n",
    "print(\"Experiment: {}; Run: {}\\n\".format(experiment, i))    \n",
    "%run vi.py --env Tiger --solver LinearAlphaNet --use_tf --n_epochs 5000 --max_steps 50 --test 10 --learning_rate 0.05 --learning_rate_decay 0.996 --learning_rate_minimum 0.00025 --learning_rate_decay_step 50 --beta 0.001 --epsilon_start 0.2 --epsilon_minimum 0.02 --epsilon_decay 0.99 --epsilon_decay_step 75 --seed $seed --save --save_name $save_name --k_type rand"
   ]
  },
  {
   "cell_type": "code",
   "execution_count": null,
   "metadata": {},
   "outputs": [],
   "source": [
    "log = log_str.format(experiment, i)\n",
    "log_path = os.path.join(save_path, log)\n",
    "\n",
    "with open(log_path, 'w') as f:\n",
    "    f.write(cap.stdout)\n",
    "i+=1\n",
    "\n",
    "tf.reset_default_graph()"
   ]
  },
  {
   "cell_type": "code",
   "execution_count": null,
   "metadata": {},
   "outputs": [],
   "source": [
    "%%capture cap --no-stderr\n",
    "\n",
    "seed = np.random.randint(10e5)\n",
    "save_name = save_str.format(experiment, i)\n",
    "\n",
    "print(\"Experiment: {}; Run: {}\\n\".format(experiment, i))   \n",
    "%run vi.py --env Tiger --solver LinearAlphaNet --use_tf --n_epochs 5000 --max_steps 50 --test 10 --learning_rate 0.05 --learning_rate_decay 0.996 --learning_rate_minimum 0.00025 --learning_rate_decay_step 50 --beta 0.001 --epsilon_start 0.2 --epsilon_minimum 0.02 --epsilon_decay 0.99 --epsilon_decay_step 75 --seed $seed --save --save_name $save_name --k_type rand"
   ]
  },
  {
   "cell_type": "code",
   "execution_count": null,
   "metadata": {},
   "outputs": [],
   "source": [
    "log = log_str.format(experiment, i)\n",
    "log_path = os.path.join(save_path, log)\n",
    "\n",
    "with open(log_path, 'w') as f:\n",
    "    f.write(cap.stdout)\n",
    "i+=1\n",
    "\n",
    "tf.reset_default_graph()"
   ]
  },
  {
   "cell_type": "code",
   "execution_count": null,
   "metadata": {},
   "outputs": [],
   "source": [
    "%%capture cap --no-stderr\n",
    "\n",
    "seed = np.random.randint(10e5)\n",
    "save_name = save_str.format(experiment, i)\n",
    "\n",
    "print(\"Experiment: {}; Run: {}\\n\".format(experiment, i))  \n",
    "%run vi.py --env Tiger --solver LinearAlphaNet --use_tf --n_epochs 5000 --max_steps 50 --test 10 --learning_rate 0.05 --learning_rate_decay 0.996 --learning_rate_minimum 0.00025 --learning_rate_decay_step 50 --beta 0.001 --epsilon_start 0.2 --epsilon_minimum 0.02 --epsilon_decay 0.99 --epsilon_decay_step 75 --seed $seed --save --save_name $save_name --k_type rand"
   ]
  },
  {
   "cell_type": "code",
   "execution_count": null,
   "metadata": {},
   "outputs": [],
   "source": [
    "log = log_str.format(experiment, i)\n",
    "log_path = os.path.join(save_path, log)\n",
    "\n",
    "with open(log_path, 'w') as f:\n",
    "    f.write(cap.stdout)"
   ]
  },
  {
   "cell_type": "markdown",
   "metadata": {},
   "source": [
    "### prob"
   ]
  },
  {
   "cell_type": "code",
   "execution_count": null,
   "metadata": {},
   "outputs": [],
   "source": [
    "experiment = 'prob'"
   ]
  },
  {
   "cell_type": "code",
   "execution_count": null,
   "metadata": {},
   "outputs": [],
   "source": [
    "%%capture cap --no-stderr\n",
    "tf.reset_default_graph()\n",
    "i = 1\n",
    "seed = np.random.randint(10e5)\n",
    "save_name = save_str.format(experiment, i)\n",
    "\n",
    "print(\"Experiment: {}; Run: {}\\n\".format(experiment, i))   \n",
    "%run vi.py --env Tiger --solver LinearAlphaNet --use_tf --n_epochs 5000 --max_steps 50 --test 10 --learning_rate 0.05 --learning_rate_decay 0.996 --learning_rate_minimum 0.00025 --learning_rate_decay_step 50 --beta 0.001 --epsilon_start 0.2 --epsilon_minimum 0.02 --epsilon_decay 0.99 --epsilon_decay_step 75 --seed $seed --save --save_name $save_name --k_type prob --d_prob 0.75"
   ]
  },
  {
   "cell_type": "code",
   "execution_count": null,
   "metadata": {},
   "outputs": [],
   "source": [
    "log = log_str.format(experiment, i)\n",
    "log_path = os.path.join(save_path, log)\n",
    "\n",
    "with open(log_path, 'w') as f:\n",
    "    f.write(cap.stdout)\n",
    "i+=1\n",
    "\n",
    "tf.reset_default_graph()"
   ]
  },
  {
   "cell_type": "code",
   "execution_count": null,
   "metadata": {},
   "outputs": [],
   "source": [
    "%%capture cap --no-stderr\n",
    "\n",
    "seed = np.random.randint(10e5)\n",
    "save_name = save_str.format(experiment, i)\n",
    "\n",
    "print(\"Experiment: {}; Run: {}\\n\".format(experiment, i))\n",
    "%run vi.py --env Tiger --solver LinearAlphaNet --use_tf --n_epochs 5000 --max_steps 50 --test 10 --learning_rate 0.05 --learning_rate_decay 0.996 --learning_rate_minimum 0.00025 --learning_rate_decay_step 50 --beta 0.001 --epsilon_start 0.2 --epsilon_minimum 0.02 --epsilon_decay 0.99 --epsilon_decay_step 75 --seed $seed --save --save_name $save_name --k_type prob --d_prob 0.75"
   ]
  },
  {
   "cell_type": "code",
   "execution_count": null,
   "metadata": {},
   "outputs": [],
   "source": [
    "log = log_str.format(experiment, i)\n",
    "log_path = os.path.join(save_path, log)\n",
    "\n",
    "with open(log_path, 'w') as f:\n",
    "    f.write(cap.stdout)\n",
    "i+=1\n",
    "\n",
    "tf.reset_default_graph()"
   ]
  },
  {
   "cell_type": "code",
   "execution_count": null,
   "metadata": {},
   "outputs": [],
   "source": [
    "%%capture cap --no-stderr\n",
    "\n",
    "seed = np.random.randint(10e5)\n",
    "save_name = save_str.format(experiment, i)\n",
    "\n",
    "print(\"Experiment: {}; Run: {}\\n\".format(experiment, i))\n",
    "%run vi.py --env Tiger --solver LinearAlphaNet --use_tf --n_epochs 5000 --max_steps 50 --test 10 --learning_rate 0.05 --learning_rate_decay 0.996 --learning_rate_minimum 0.00025 --learning_rate_decay_step 50 --beta 0.001 --epsilon_start 0.2 --epsilon_minimum 0.02 --epsilon_decay 0.99 --epsilon_decay_step 75 --seed $seed --save --save_name $save_name --k_type prob --d_prob 0.75"
   ]
  },
  {
   "cell_type": "code",
   "execution_count": null,
   "metadata": {},
   "outputs": [],
   "source": [
    "log = log_str.format(experiment, i)\n",
    "log_path = os.path.join(save_path, log)\n",
    "\n",
    "with open(log_path, 'w') as f:\n",
    "    f.write(cap.stdout)"
   ]
  },
  {
   "cell_type": "markdown",
   "metadata": {},
   "source": [
    "### oppo"
   ]
  },
  {
   "cell_type": "code",
   "execution_count": null,
   "metadata": {},
   "outputs": [],
   "source": [
    "experiment = 'oppo'"
   ]
  },
  {
   "cell_type": "code",
   "execution_count": null,
   "metadata": {},
   "outputs": [],
   "source": [
    "%%capture cap --no-stderr\n",
    "tf.reset_default_graph()\n",
    "i = 1\n",
    "seed = np.random.randint(10e5)\n",
    "save_name = save_str.format(experiment, i)\n",
    "\n",
    "print(\"Experiment: {}; Run: {}\\n\".format(experiment, i))\n",
    "%run vi.py --env Tiger --solver LinearAlphaNet --use_tf --n_epochs 5000 --max_steps 50 --test 10 --learning_rate 0.05 --learning_rate_decay 0.996 --learning_rate_minimum 0.00025 --learning_rate_decay_step 50 --beta 0.001 --epsilon_start 0.2 --epsilon_minimum 0.02 --epsilon_decay 0.99 --epsilon_decay_step 75 --seed $seed --save --save_name $save_name --k_type oppo"
   ]
  },
  {
   "cell_type": "code",
   "execution_count": null,
   "metadata": {},
   "outputs": [],
   "source": [
    "log = log_str.format(experiment, i)\n",
    "log_path = os.path.join(save_path, log)\n",
    "\n",
    "with open(log_path, 'w') as f:\n",
    "    f.write(cap.stdout)\n",
    "i+=1\n",
    "\n",
    "tf.reset_default_graph()"
   ]
  },
  {
   "cell_type": "code",
   "execution_count": null,
   "metadata": {},
   "outputs": [],
   "source": [
    "%%capture cap --no-stderr\n",
    "\n",
    "seed = np.random.randint(10e5)\n",
    "save_name = save_str.format(experiment, i)\n",
    "\n",
    "print(\"Experiment: {}; Run: {}\\n\".format(experiment, i))\n",
    "%run vi.py --env Tiger --solver LinearAlphaNet --use_tf --n_epochs 5000 --max_steps 50 --test 10 --learning_rate 0.05 --learning_rate_decay 0.996 --learning_rate_minimum 0.00025 --learning_rate_decay_step 50 --beta 0.001 --epsilon_start 0.2 --epsilon_minimum 0.02 --epsilon_decay 0.99 --epsilon_decay_step 75 --seed $seed --save --save_name $save_name --k_type oppo"
   ]
  },
  {
   "cell_type": "code",
   "execution_count": null,
   "metadata": {},
   "outputs": [],
   "source": [
    "log = log_str.format(experiment, i)\n",
    "log_path = os.path.join(save_path, log)\n",
    "\n",
    "with open(log_path, 'w') as f:\n",
    "    f.write(cap.stdout)\n",
    "i+=1\n",
    "\n",
    "tf.reset_default_graph()"
   ]
  },
  {
   "cell_type": "code",
   "execution_count": null,
   "metadata": {},
   "outputs": [],
   "source": [
    "%%capture cap --no-stderr\n",
    "\n",
    "seed = np.random.randint(10e5)\n",
    "save_name = save_str.format(experiment, i)\n",
    "\n",
    "print(\"Experiment: {}; Run: {}\\n\".format(experiment, i))\n",
    "%run vi.py --env Tiger --solver LinearAlphaNet --use_tf --n_epochs 5000 --max_steps 50 --test 10 --learning_rate 0.05 --learning_rate_decay 0.996 --learning_rate_minimum 0.00025 --learning_rate_decay_step 50 --beta 0.001 --epsilon_start 0.2 --epsilon_minimum 0.02 --epsilon_decay 0.99 --epsilon_decay_step 75 --seed $seed --save --save_name $save_name --k_type oppo"
   ]
  },
  {
   "cell_type": "code",
   "execution_count": null,
   "metadata": {},
   "outputs": [],
   "source": [
    "log = log_str.format(experiment, i)\n",
    "log_path = os.path.join(save_path, log)\n",
    "\n",
    "with open(log_path, 'w') as f:\n",
    "    f.write(cap.stdout)"
   ]
  },
  {
   "cell_type": "markdown",
   "metadata": {},
   "source": [
    "### backup"
   ]
  },
  {
   "cell_type": "markdown",
   "metadata": {},
   "source": [
    "'''\n",
    "\n",
    "%%capture cap --no-stderr\n",
    "tf.reset_default_graph()\n",
    "i = 1\n",
    "seed = np.random.randint(10e5)\n",
    "save_name = save_str.format(experiment, i)\n",
    "\n",
    "print(\"Experiment: {}; Run: {}\\n\".format(experiment, i))\n",
    "%run vi.py --env Tiger --solver LinearAlphaNet --use_tf --n_epochs 100 --max_steps 50 --test 10 --learning_rate 0.05 --learning_rate_decay 0.996 --learning_rate_minimum 0.00025 --learning_rate_decay_step 50 --beta 0.001 --epsilon_start 0.2 --epsilon_minimum 0.02 --epsilon_decay 0.99 --epsilon_decay_step 75 --seed $seed --save --save_name $save_name \n",
    "\n",
    "\n",
    "log = log_str.format(experiment, i)\n",
    "log_path = os.path.join(save_path, log)\n",
    "\n",
    "with open(log_path, 'w') as f:\n",
    "    f.write(cap.stdout)\n",
    "i+=1\n",
    "\n",
    "tf.reset_default_graph()\n",
    "\n",
    "%%capture cap --no-stderr\n",
    "\n",
    "seed = np.random.randint(10e5)\n",
    "save_name = save_str.format(experiment, i)\n",
    "\n",
    "print(\"Experiment: {}; Run: {}\\n\".format(experiment, i))\n",
    "%run vi.py --env Tiger --solver LinearAlphaNet --use_tf --n_epochs 100 --max_steps 50 --test 10 --learning_rate 0.05 --learning_rate_decay 0.996 --learning_rate_minimum 0.00025 --learning_rate_decay_step 50 --beta 0.001 --epsilon_start 0.2 --epsilon_minimum 0.02 --epsilon_decay 0.99 --epsilon_decay_step 75 --seed $seed --save --save_name $save_name \n",
    "\n",
    "\n",
    "log = log_str.format(experiment, i)\n",
    "log_path = os.path.join(save_path, log)\n",
    "\n",
    "with open(log_path, 'w') as f:\n",
    "    f.write(cap.stdout)\n",
    "i+=1\n",
    "\n",
    "tf.reset_default_graph()\n",
    "\n",
    "%%capture cap --no-stderr\n",
    "\n",
    "seed = np.random.randint(10e5)\n",
    "save_name = save_str.format(experiment, i)\n",
    "\n",
    "print(\"Experiment: {}; Run: {}\\n\".format(experiment, i))\n",
    "%run vi.py --env Tiger --solver LinearAlphaNet --use_tf --n_epochs 100 --max_steps 50 --test 10 --learning_rate 0.05 --learning_rate_decay 0.996 --learning_rate_minimum 0.00025 --learning_rate_decay_step 50 --beta 0.001 --epsilon_start 0.2 --epsilon_minimum 0.02 --epsilon_decay 0.99 --epsilon_decay_step 75 --seed $seed --save --save_name $save_name \n",
    "\n",
    "\n",
    "log = log_str.format(experiment, i)\n",
    "log_path = os.path.join(save_path, log)\n",
    "\n",
    "with open(log_path, 'w') as f:\n",
    "    f.write(cap.stdout)\n",
    "    \n",
    "'''"
   ]
  },
  {
   "cell_type": "markdown",
   "metadata": {},
   "source": []
  }
 ],
 "metadata": {
  "kernelspec": {
   "display_name": "Python 3",
   "language": "python",
   "name": "python3"
  },
  "language_info": {
   "codemirror_mode": {
    "name": "ipython",
    "version": 3
   },
   "file_extension": ".py",
   "mimetype": "text/x-python",
   "name": "python",
   "nbconvert_exporter": "python",
   "pygments_lexer": "ipython3",
   "version": "3.7.4"
  }
 },
 "nbformat": 4,
 "nbformat_minor": 2
}
