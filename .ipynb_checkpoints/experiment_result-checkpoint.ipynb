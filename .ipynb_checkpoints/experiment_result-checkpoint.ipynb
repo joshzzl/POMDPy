{
 "cells": [
  {
   "cell_type": "code",
   "execution_count": 1,
   "metadata": {},
   "outputs": [],
   "source": [
    "import os\n",
    "import numpy as np\n",
    "import pandas as pd\n",
    "import json"
   ]
  },
  {
   "cell_type": "markdown",
   "metadata": {},
   "source": [
    "# Experiment results\n",
    "\n",
    "The experiment was based on the classical POMDP problem - Tiger problem. \n",
    "\n",
    "### Tiger Problem\n",
    "\n",
    "In the problem setting, there are two doors and a tiger. In each run of the problem, the tiger is initialized randomly behind one door and is unknown to the player. The player could take three possible actions for each step - listen, open door 1 and open door 2.\n",
    "    \n",
    "    - Listen: by listening, player will heard a sound from either door 1 or 2. However the origin of sound is not guaranteed correct. Listening action results in a tiny cost to player (-1)\n",
    "    - Open door 1/2: by opening one door, player enters the exit state with either a large reward (+10) if the tiger doesn't stand behind the door, or a even larger penalty (-20) otherwise.\n",
    "    \n",
    "    \n",
    "### Experiment method\n",
    "\n",
    "The experiment programs the Tiger problem setting and the agent using \"Linear Value Function Approximation\" solving the POMDP. We also added choices of applying three kinds of deceptive mask onto player's observations - 'opposite', 'random', 'probabilistic', together with the original observation model.\n",
    "\n",
    " - Original observation model(baseline): player has a higher probability (0.85) to hear the true origin of tiger's sound and small chance to hear it wrongly. i.e. [True, False] = [0.85, 0.15]\n",
    "\n",
    " - 'opposite' mask gives opposite observation from true origin of the sound. [True, False] = [0, 1]\n",
    "\n",
    " - 'random' mask gives randomly generated observation and is impartial to two doors. [True, False] = [0.5, 0.5]\n",
    "\n",
    " -  'probabilistic' mask provides a relatively \"less correct\" observation compared to original. [True, False] = [0.6, 0.6]\n",
    " \n",
    "Baseline experiment and experiment with 'random' mask was run twice; experiment with 'opposite' and 'probabilistic' mask was run 4 times respectively.\n",
    "\n",
    "During each 'run', the Tiger problem was played 5000 times; the agent was trained every 9 from 10 epochs and the rest was test epoch. During the test epoch, we records the player's action taken, observation and reward received for every step.\n"
   ]
  },
  {
   "cell_type": "markdown",
   "metadata": {},
   "source": [
    "## Direct results from experiment\n",
    "\n",
    "For the below experiments, the average undiscounted/discounted return/step results are:\n",
    "\n",
    "- Baseline: \n",
    "    - run 1 - undiscounted: 4.90 +- 0.30, discounted: 4.42 +- 0.28\n",
    "    - run 2 - undiscounted: 4.69 +- 0.33, discounted: 4.41 +- 0.31\n",
    "\n",
    "- \"Opposite\":\n",
    "    - run 1 - undiscounted: -20.47 +- 0.10, discounted: -19.50 +- 0.00\n",
    "    - run 2 - undiscounted: -20.47 +- 0.10, discounted: -19.50 +- 0.10\n",
    "    - run 3 - undiscounted: -20.91 +- 0.12, discounted: -19.49 +- 0.10\n",
    "    - run 4 - undiscounted: -20.47 +- 0.10, discounted: -19.49 +- 0.10\n",
    "    \n",
    "- \"Random\":\n",
    "    - run 1 - undiscounted: -9.96 +- 0.54, discounted: -7.61 +- 0.42\n",
    "    - run 2 - undiscounted: -9.57 +- 0.55, discounted: -7.14 +- 0.42\n",
    "\n",
    "- \"Probabilistic\" ($p_{correct} = 0.6$):\n",
    "    - run 1 - undiscounted: -2.51 +- 0.32, discounted: -2.39 +- 0.30\n",
    "    - run 2 - undiscounted: -3.69 +- 0.33, discounted: -3.53 +- 0.30\n",
    "    - run 3 - undiscounted: -2.58 +- 0.32, discounted: -2.47 +- 0.30\n",
    "    - run 4 - undiscounted: -3.01 +- 0.33, discounted: -2.91 +- 0.31"
   ]
  },
  {
   "cell_type": "markdown",
   "metadata": {},
   "source": [
    "### Look into the stepwise results\n",
    "\n",
    "We further look into the stepwise outcome for each epoch in each run of experiments.\n",
    "\n",
    "We parse the verbal records into numerical statistics. Below are related codes, jump to:\n",
    "   \n",
    "   - [link to data processing](#processing)\n",
    "   - [link to results](#results)\n",
    "for analysis.\n",
    "\n"
   ]
  },
  {
   "cell_type": "code",
   "execution_count": 2,
   "metadata": {},
   "outputs": [],
   "source": [
    "def parse(path):\n",
    "    results = dict()\n",
    "    \n",
    "    with open(path, 'r', encoding='utf-8') as f:\n",
    "        content = f.readlines()\n",
    "    if not content:\n",
    "        raise ValueError(\"path not valid\")\n",
    "    temp_epoch = -1\n",
    "    temp_block = dict()\n",
    "    temp_step = -1\n",
    "    temp_reward = 0\n",
    "    for line in content:\n",
    "        line = line.strip()\n",
    "        if len(line)==0:\n",
    "            temp_block['r'] = temp_reward\n",
    "            if 'fr' not in temp_block:\n",
    "                temp_block['fr'] = temp_reward\n",
    "            if temp_epoch==5000 and len(temp_block)==1:\n",
    "                break\n",
    "            results[temp_epoch] = temp_block\n",
    "            \n",
    "            # renew the temps\n",
    "            temp_block = dict()\n",
    "            temp_reward = 0\n",
    "        elif line[:3]=='eva':\n",
    "            temp_epoch = int(line.strip('.').split(' ')[-1])\n",
    "            #print(temp_epoch)\n",
    "        elif line[:2]=='b ':\n",
    "            line = line.split(' ')\n",
    "            temp_step = int(line[1])\n",
    "            b1 = float(line[2].strip('['))\n",
    "            b2 = float(line[3].strip(']'))\n",
    "            temp_block[temp_step] = (b1, b2)\n",
    "            #print(temp_step, b1, b2)\n",
    "        elif line[20:23]=='Rew':\n",
    "            temp_v = float(line.split(' ')[-1])\n",
    "            if temp_v != -1.0:\n",
    "                temp_block['fr'] = temp_v\n",
    "            temp_reward += temp_v\n",
    "            \n",
    "    results.pop(-1, None)\n",
    "    return results"
   ]
  },
  {
   "cell_type": "code",
   "execution_count": 3,
   "metadata": {},
   "outputs": [],
   "source": [
    "path = './temp/'\n",
    "\n",
    "oppo_fn = ['oppo1', 'oppo2', 'oppo3', 'oppo4']\n",
    "prob_fn = ['prob1_60','prob2_60','prob3_60','prob1_60']\n",
    "rand_fn = ['rand1', 'rand2']\n",
    "valid_fn = ['valid', 'valid2']"
   ]
  },
  {
   "cell_type": "code",
   "execution_count": 4,
   "metadata": {},
   "outputs": [],
   "source": [
    "def save_json(file_list):\n",
    "    for fn in file_list:\n",
    "        res = parse(path+fn+'.txt')\n",
    "        with open(path+fn+'.json', 'w') as fp:\n",
    "            json.dump(res, fp)\n",
    "    print(\"Json saved.\")"
   ]
  },
  {
   "cell_type": "code",
   "execution_count": 5,
   "metadata": {},
   "outputs": [
    {
     "name": "stdout",
     "output_type": "stream",
     "text": [
      "Json saved.\n",
      "Json saved.\n",
      "Json saved.\n",
      "Json saved.\n"
     ]
    }
   ],
   "source": [
    "save_json(oppo_fn)\n",
    "save_json(prob_fn)\n",
    "save_json(rand_fn)\n",
    "save_json(valid_fn)"
   ]
  },
  {
   "cell_type": "code",
   "execution_count": 6,
   "metadata": {},
   "outputs": [],
   "source": [
    "def get_stat(res_dict):\n",
    "    belief_stat = dict()\n",
    "    reward_stat = dict()\n",
    "    for _, epoch in res_dict.items():\n",
    "        for k,v in epoch.items():\n",
    "            if k == 'r':\n",
    "                if v in reward_stat:\n",
    "                    reward_stat[v] += 1\n",
    "                else:\n",
    "                    reward_stat[v] = 1\n",
    "            else:\n",
    "                if v[0] in belief_stat:\n",
    "                    belief_stat[v[0]] += 1\n",
    "                else:\n",
    "                    belief_stat[v[0]] = 1\n",
    "                    \n",
    "    return belief_stat, reward_stat\n",
    "\n",
    "def get_stat_count(res_dict):\n",
    "    b1_all = []\n",
    "    for _, epoch in res_dict.items():\n",
    "        for k,v in epoch.items():\n",
    "            if k != 'r' and k != 'fr':\n",
    "                b1_all.append(v) \n",
    "    return b1_all\n",
    "\n",
    "def get_belief_reward(res_dict):\n",
    "    b1_rwds = []\n",
    "    fr_stat = dict()\n",
    "    for k, epoch in res_dict.items():\n",
    "        temp_rew = epoch.pop('r')\n",
    "        temp_fr = epoch.pop('fr')\n",
    "        if temp_fr in fr_stat:\n",
    "            fr_stat[temp_fr] += 1\n",
    "        else:\n",
    "            fr_stat[temp_fr] = 1\n",
    "        for bs in epoch.values():\n",
    "            b1_rwds.append((bs[0], temp_rew))\n",
    "    return b1_rwds, fr_stat"
   ]
  },
  {
   "cell_type": "code",
   "execution_count": 7,
   "metadata": {},
   "outputs": [],
   "source": [
    "import matplotlib.pyplot as plt\n",
    "from functools import reduce"
   ]
  },
  {
   "cell_type": "markdown",
   "metadata": {},
   "source": [
    "<a id='processing'></a>\n",
    "\n",
    "### Explanation\n",
    "\n",
    "I collect the believes of the player from every step of every testing, together with the resulting rewards at the final step - the exit state which marks whether the player successfully avoid the hazard or not. By combining the belief in the process with the final rewards, we aim to analyze how the rewards distribute over belief."
   ]
  },
  {
   "cell_type": "markdown",
   "metadata": {},
   "source": [
    "### baseline with no deceptive mask"
   ]
  },
  {
   "cell_type": "code",
   "execution_count": 8,
   "metadata": {},
   "outputs": [
    {
     "name": "stdout",
     "output_type": "stream",
     "text": [
      "Run 1 have -20.0 in 41 results; 10.0 in 459 results; 0 in 1 results; \n",
      "Run 2 have 10.0 in 435 results; -20.0 in 65 results; 0 in 1 results; \n"
     ]
    },
    {
     "data": {
      "image/png": "[encoded data removed]",
      "text/plain": [
       "<Figure size 576x288 with 2 Axes>"
      ]
     },
     "metadata": {
      "needs_background": "light"
     },
     "output_type": "display_data"
    }
   ],
   "source": [
    "_, axs = plt.subplots(1, 2, sharey=True, tight_layout=True, figsize=(8,4))\n",
    "valid_b1_rew = []\n",
    "for i in range(len(valid_fn)):\n",
    "    temp_res = parse(path+valid_fn[i]+'.txt')\n",
    "    b1_rew, fr_stat = get_belief_reward(temp_res)\n",
    "    msg = \"Run {} have \"+'{} in {} results; '*len(fr_stat)\n",
    "    print(msg.format(i+1, *list(reduce(lambda x, y: x + y, fr_stat.items()))))\n",
    "    valid_b1_rew += b1_rew\n",
    "    b1_rew = np.asarray(b1_rew)\n",
    "    axs[i].hist2d(b1_rew[:, 0], b1_rew[:, 1], bins=10)"
   ]
  },
  {
   "cell_type": "markdown",
   "metadata": {},
   "source": [
    "### baseline with opposite mask"
   ]
  },
  {
   "cell_type": "code",
   "execution_count": 9,
   "metadata": {},
   "outputs": [
    {
     "name": "stdout",
     "output_type": "stream",
     "text": [
      "Run 1 have -20.0 in 500 results; 0 in 1 results; \n",
      "Run 2 have -20.0 in 500 results; 0 in 1 results; \n",
      "Run 3 have -20.0 in 499 results; -50.0 in 1 results; 0 in 1 results; \n",
      "Run 4 have -20.0 in 500 results; 0 in 1 results; \n"
     ]
    },
    {
     "data": {
      "image/png": "[encoded data removed]",
      "text/plain": [
       "<Figure size 864x216 with 4 Axes>"
      ]
     },
     "metadata": {
      "needs_background": "light"
     },
     "output_type": "display_data"
    }
   ],
   "source": [
    "_, axs = plt.subplots(1, len(oppo_fn), sharey=True, tight_layout=True, figsize=(12,3))\n",
    "oppo_b1_rew = []\n",
    "for i in range(len(oppo_fn)):\n",
    "    temp_res = parse(path+oppo_fn[i]+'.txt')\n",
    "    b1_rew, fr_stat = get_belief_reward(temp_res)\n",
    "    msg = \"Run {} have \"+'{} in {} results; '*len(fr_stat)\n",
    "    print(msg.format(i+1, *list(reduce(lambda x, y: x + y, fr_stat.items()))))\n",
    "    oppo_b1_rew += b1_rew\n",
    "    b1_rew = np.asarray(b1_rew)\n",
    "    axs[i].hist2d(b1_rew[:, 0], b1_rew[:, 1], bins=10)"
   ]
  },
  {
   "cell_type": "markdown",
   "metadata": {},
   "source": [
    "### baseline with probabilistic deceptive mask"
   ]
  },
  {
   "cell_type": "code",
   "execution_count": 10,
   "metadata": {},
   "outputs": [
    {
     "name": "stdout",
     "output_type": "stream",
     "text": [
      "Run 1 have -20.0 in 376 results; 10.0 in 623 results; -50.0 in 1 results; 0 in 1 results; \n",
      "Run 2 have -20.0 in 373 results; 10.0 in 627 results; 0 in 1 results; \n",
      "Run 3 have 10.0 in 613 results; -20.0 in 386 results; -50.0 in 1 results; 0 in 1 results; \n",
      "Run 4 have -20.0 in 376 results; 10.0 in 623 results; -50.0 in 1 results; 0 in 1 results; \n"
     ]
    },
    {
     "data": {
      "image/png": "[encoded data removed]",
      "text/plain": [
       "<Figure size 864x288 with 4 Axes>"
      ]
     },
     "metadata": {
      "needs_background": "light"
     },
     "output_type": "display_data"
    }
   ],
   "source": [
    "_, axs = plt.subplots(1, 4, sharey=True, tight_layout=True, figsize=(12,4))\n",
    "prob_b1_rew = []\n",
    "for i in range(len(prob_fn)):\n",
    "    temp_res = parse(path+prob_fn[i]+'.txt')\n",
    "    b1_rew, fr_stat = get_belief_reward(temp_res)\n",
    "    msg = \"Run {} have \"+'{} in {} results; '*len(fr_stat)\n",
    "    print(msg.format(i+1, *list(reduce(lambda x, y: x + y, fr_stat.items()))))\n",
    "    prob_b1_rew += b1_rew\n",
    "    b1_rew = np.asarray(b1_rew)\n",
    "    axs[i].hist2d(b1_rew[:, 0], b1_rew[:, 1], bins=10)"
   ]
  },
  {
   "cell_type": "markdown",
   "metadata": {},
   "source": [
    "### baseline with random mask"
   ]
  },
  {
   "cell_type": "code",
   "execution_count": 11,
   "metadata": {},
   "outputs": [
    {
     "name": "stdout",
     "output_type": "stream",
     "text": [
      "Run 1 have 10.0 in 244 results; -20.0 in 239 results; -50.0 in 17 results; 0 in 1 results; \n",
      "Run 2 have 10.0 in 245 results; -20.0 in 239 results; -50.0 in 16 results; 0 in 1 results; \n"
     ]
    },
    {
     "data": {
      "image/png": "[encoded data removed]",
      "text/plain": [
       "<Figure size 576x288 with 2 Axes>"
      ]
     },
     "metadata": {
      "needs_background": "light"
     },
     "output_type": "display_data"
    }
   ],
   "source": [
    "_, axs = plt.subplots(1, len(rand_fn), sharey=True, tight_layout=True, figsize=(8,4))\n",
    "rand_b1_rew= []\n",
    "for i in range(len(rand_fn)):\n",
    "    temp_res = parse(path+rand_fn[i]+'.txt')\n",
    "    b1_rew, fr_stat = get_belief_reward(temp_res)\n",
    "    msg = \"Run {} have \"+'{} in {} results; '*len(fr_stat)\n",
    "    print(msg.format(i+1, *list(reduce(lambda x, y: x + y, fr_stat.items()))))\n",
    "    rand_b1_rew += b1_rew\n",
    "    b1_rew = np.asarray(b1_rew)\n",
    "    axs[i].hist2d(b1_rew[:, 0], b1_rew[:, 1], bins=10)"
   ]
  },
  {
   "cell_type": "markdown",
   "metadata": {},
   "source": [
    "### Aggregate the results from 4 settings and cross comparing"
   ]
  },
  {
   "cell_type": "code",
   "execution_count": 12,
   "metadata": {},
   "outputs": [
    {
     "data": {
      "image/png": "[encoded data removed]",
      "text/plain": [
       "<Figure size 1080x576 with 4 Axes>"
      ]
     },
     "metadata": {
      "needs_background": "light"
     },
     "output_type": "display_data"
    }
   ],
   "source": [
    "#_, axs = plt.subplots(1, 4, sharey=True, tight_layout=True, figsize=(12,3))\n",
    "\n",
    "valid_b1_rew = np.asarray(valid_b1_rew)\n",
    "oppo_b1_rew = np.asarray(oppo_b1_rew)\n",
    "prob_b1_rew = np.asarray(prob_b1_rew)\n",
    "rand_b1_rew = np.asarray(rand_b1_rew)\n",
    "\n",
    "fig = plt.figure(figsize=(15,8))\n",
    "\n",
    "ax1 = fig.add_subplot(221)\n",
    "ax2 = fig.add_subplot(222)\n",
    "ax3 = fig.add_subplot(223)\n",
    "ax4 = fig.add_subplot(224)\n",
    "\n",
    "ax1.title.set_text('Baseline')\n",
    "ax2.title.set_text('Opposite Mask')\n",
    "ax3.title.set_text('Prob Mask')\n",
    "ax4.title.set_text('Random Mask')\n",
    "\n",
    "_ = ax1.hist2d(valid_b1_rew[:, 0], valid_b1_rew[:, 1], bins=10)\n",
    "_ = ax2.hist2d(oppo_b1_rew[:, 0], oppo_b1_rew[:, 1], bins=10)\n",
    "_ = ax3.hist2d(prob_b1_rew[:, 0], prob_b1_rew[:, 1], bins=10)\n",
    "_ = ax4.hist2d(rand_b1_rew[:, 0], rand_b1_rew[:, 1], bins=10)"
   ]
  },
  {
   "cell_type": "markdown",
   "metadata": {},
   "source": [
    "<a id='results'></a>\n",
    "## Results\n",
    "\n",
    "As shown in statistical results, for baseline model with no deception on observation, the agent achieves success (away from tiger) with approximate 90% probability.\n",
    "\n",
    "When applying probabilistic deceptive mask with 0.6 correct rate, the success rate of the player drops to 62.3%.\n",
    "\n",
    "When applying randomly deceptive mask, the success rate drops to 50% approximately. This makes sense because the tiger is initialized randomly and impartially behind two doors. Applying random mask is mathematically equivalent to making random guess from two doors.\n",
    "\n",
    "When applying opposite mask, the player won't survive a single attempt.\n",
    "\n",
    "### Regarding the distribution of resulting rewards over belief, \n",
    "we see that \"opposite\" mask serves as a quick and direct deception - the player will simply listen once, get a falsified observation and make wrong selection of the door. It's a short \"pain\" for the player with no success chance.\n",
    "\n",
    "The \"random\" mask deceives the player in another approach. The player still wins at almost 50% chance, which equals to random guess. However, in many runs of the model, the player suffered from \"long pain\" when they repeatedly tried to listen for the correct sound and yet get puzzled by the falsified feedback generated by random mask. Some runs resulted in an even worse reward/penalty than an direct fail as small costs of listening aggregate large. Some player eventually made max number of steps allowed (50) and was forced to exit.\n",
    "\n",
    "The \"probabilistic\" mask works as a \"subtle\" deception. The distribution of final rewards resembles the one from baseline, yet the player has less chance to success in the end."
   ]
  },
  {
   "cell_type": "markdown",
   "metadata": {},
   "source": [
    "### histogram 1D - belief for door 1"
   ]
  },
  {
   "cell_type": "code",
   "execution_count": 13,
   "metadata": {},
   "outputs": [
    {
     "data": {
      "image/png": "[encoded data removed]",
      "text/plain": [
       "<Figure size 576x288 with 2 Axes>"
      ]
     },
     "metadata": {
      "needs_background": "light"
     },
     "output_type": "display_data"
    }
   ],
   "source": [
    "_, axs = plt.subplots(1, 2, sharey=True, tight_layout=True, figsize=(8,4))\n",
    "\n",
    "for i in range(len(valid_fn)):\n",
    "    temp_res = parse(path+valid_fn[i]+'.txt')\n",
    "    temp_b1 = np.asarray(get_stat_count(temp_res))\n",
    "    axs[i].hist(temp_b1[:, 0], bins=20)"
   ]
  },
  {
   "cell_type": "code",
   "execution_count": 14,
   "metadata": {},
   "outputs": [
    {
     "data": {
      "image/png": "[encoded data removed]",
      "text/plain": [
       "<Figure size 864x216 with 4 Axes>"
      ]
     },
     "metadata": {
      "needs_background": "light"
     },
     "output_type": "display_data"
    }
   ],
   "source": [
    "_, oppo_ax = plt.subplots(1, len(oppo_fn), sharey=True, tight_layout=True, figsize=(12,3))\n",
    "for i in range(len(oppo_fn)):\n",
    "    temp_res = parse(path+oppo_fn[i]+'.txt')\n",
    "    temp_belief_1 = np.asarray(get_stat_count(temp_res))\n",
    "    oppo_ax[i].hist(temp_belief_1[:,0], bins=20)"
   ]
  },
  {
   "cell_type": "code",
   "execution_count": 15,
   "metadata": {},
   "outputs": [
    {
     "data": {
      "image/png": "[encoded data removed]",
      "text/plain": [
       "<Figure size 1008x216 with 4 Axes>"
      ]
     },
     "metadata": {
      "needs_background": "light"
     },
     "output_type": "display_data"
    }
   ],
   "source": [
    "_, prob_ax = plt.subplots(1, 4, sharey=True, tight_layout=True, figsize=(14,3))\n",
    "for i in range(len(prob_fn)):\n",
    "    temp_res = parse(path+prob_fn[i]+'.txt')\n",
    "    temp_belief_1 = np.asarray(get_stat_count(temp_res))\n",
    "    prob_ax[i].hist(temp_belief_1[:,0], bins=20)"
   ]
  },
  {
   "cell_type": "code",
   "execution_count": 16,
   "metadata": {},
   "outputs": [
    {
     "data": {
      "image/png": "[encoded data removed]",
      "text/plain": [
       "<Figure size 864x216 with 2 Axes>"
      ]
     },
     "metadata": {
      "needs_background": "light"
     },
     "output_type": "display_data"
    }
   ],
   "source": [
    "_, rand_ax = plt.subplots(1, len(rand_fn), sharey=True, tight_layout=True, figsize=(12,3))\n",
    "for i in range(len(rand_fn)):\n",
    "    temp_res = parse(path+rand_fn[i]+'.txt')\n",
    "    temp_belief_1 = np.asarray(get_stat_count(temp_res))\n",
    "    rand_ax[i].hist(temp_belief_1[:,0], bins=20)"
   ]
  }
 ],
 "metadata": {
  "kernelspec": {
   "display_name": "Python 3",
   "language": "python",
   "name": "python3"
  },
  "language_info": {
   "codemirror_mode": {
    "name": "ipython",
    "version": 3
   },
   "file_extension": ".py",
   "mimetype": "text/x-python",
   "name": "python",
   "nbconvert_exporter": "python",
   "pygments_lexer": "ipython3",
   "version": "3.7.4"
  }
 },
 "nbformat": 4,
 "nbformat_minor": 2
}
